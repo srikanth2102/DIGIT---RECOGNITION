{
  "nbformat": 4,
  "nbformat_minor": 0,
  "metadata": {
    "colab": {
      "name": "DigtiRecognition.ipynb",
      "provenance": [],
      "collapsed_sections": [],
      "authorship_tag": "ABX9TyNr5CAEqAdMD6mitgWyc2BN",
      "include_colab_link": true
    },
    "kernelspec": {
      "name": "python3",
      "display_name": "Python 3"
    },
    "language_info": {
      "name": "python"
    }
  },
  "cells": [
    {
      "cell_type": "markdown",
      "metadata": {
        "id": "view-in-github",
        "colab_type": "text"
      },
      "source": [
        "<a href=\"https://colab.research.google.com/github/srikanth2102/DIGIT---RECOGNITION/blob/main/DigtiRecognition.ipynb\" target=\"_parent\"><img src=\"https://colab.research.google.com/assets/colab-badge.svg\" alt=\"Open In Colab\"/></a>"
      ]
    },
    {
      "cell_type": "markdown",
      "metadata": {
        "id": "7fJcf4FIU0I1"
      },
      "source": [
        "# **DIGIT RECOGNITION (MINST)**"
      ]
    },
    {
      "cell_type": "code",
      "metadata": {
        "id": "2IxB1eYN_sTG"
      },
      "source": [
        "#importing necessary libraries\n",
        "import tensorflow as tf\n",
        "from tensorflow import keras\n",
        "from tensorflow.keras import datasets, layers, models\n",
        "import matplotlib.pyplot as plt"
      ],
      "execution_count": null,
      "outputs": []
    },
    {
      "cell_type": "markdown",
      "metadata": {
        "id": "mHjVWD-Ca-Ik"
      },
      "source": [
        "## **LODING DATA FROM TENSORFLOW DATASETS**"
      ]
    },
    {
      "cell_type": "code",
      "metadata": {
        "colab": {
          "base_uri": "https://localhost:8080/"
        },
        "id": "udfqJFvs__e1",
        "outputId": "29524154-617f-4e90-98ca-8bd92c09a58f"
      },
      "source": [
        "#loading the minst data set from tensorflow datasets\n",
        "(X_train, Y_train), (X_test, Y_test) = keras.datasets.mnist.load_data()\n",
        "\n",
        "X_train.shape"
      ],
      "execution_count": null,
      "outputs": [
        {
          "output_type": "execute_result",
          "data": {
            "text/plain": [
              "(60000, 28, 28)"
            ]
          },
          "metadata": {
            "tags": []
          },
          "execution_count": 110
        }
      ]
    },
    {
      "cell_type": "markdown",
      "metadata": {
        "id": "iW5EyathahXK"
      },
      "source": [
        "## **RESHAPING** **DATA:**\n",
        "Adding the number of channels in the photo since it is not mentioned. The images we use here are Grayscale images so the number of channels is equal to one. "
      ]
    },
    {
      "cell_type": "code",
      "metadata": {
        "id": "oqTenk1uJxXH"
      },
      "source": [
        "#reshaping training \n",
        "X_train = X_train.reshape(-1, 28, 28, 1)\n",
        "X_test = X_test.reshape(-1, 28, 28, 1)"
      ],
      "execution_count": null,
      "outputs": []
    },
    {
      "cell_type": "markdown",
      "metadata": {
        "id": "4bDVnh_SaaqB"
      },
      "source": [
        "## **NORMALISING DATA**"
      ]
    },
    {
      "cell_type": "code",
      "metadata": {
        "id": "BgZS7qKqPoAP"
      },
      "source": [
        "#normalising the data to values between 0 to 1\n",
        "X_train, X_test = X_train / 255.0, X_test / 255.0"
      ],
      "execution_count": null,
      "outputs": []
    },
    {
      "cell_type": "markdown",
      "metadata": {
        "id": "YznLbKEfXtzo"
      },
      "source": [
        "## **CONVOLUTIONAL NETWORK**"
      ]
    },
    {
      "cell_type": "code",
      "metadata": {
        "colab": {
          "base_uri": "https://localhost:8080/"
        },
        "id": "vqnrb8h1Bz-U",
        "outputId": "f562597c-1688-4037-a39b-456d8c5e73ac"
      },
      "source": [
        "#creating a convolutional neural network\n",
        " \n",
        "cnn = models.Sequential()\n",
        "#first cnn layer\n",
        "cnn.add(layers.Conv2D(6, (5,5), padding='same', activation='relu', input_shape=(28,28,1)))\n",
        "cnn.add(layers.MaxPooling2D((2, 2), strides=2))\n",
        "\n",
        "#second cnn layer\n",
        "cnn.add(layers.Conv2D(16, (5,5), activation='relu', input_shape=(28,28,1)))\n",
        "cnn.add(layers.MaxPooling2D((2, 2), strides=2))\n",
        "\n",
        "#viewing the architecture of model\n",
        "cnn.summary()"
      ],
      "execution_count": null,
      "outputs": [
        {
          "output_type": "stream",
          "text": [
            "Model: \"sequential_14\"\n",
            "_________________________________________________________________\n",
            "Layer (type)                 Output Shape              Param #   \n",
            "=================================================================\n",
            "conv2d_31 (Conv2D)           (None, 28, 28, 6)         156       \n",
            "_________________________________________________________________\n",
            "max_pooling2d_25 (MaxPooling (None, 14, 14, 6)         0         \n",
            "_________________________________________________________________\n",
            "conv2d_32 (Conv2D)           (None, 10, 10, 16)        2416      \n",
            "_________________________________________________________________\n",
            "max_pooling2d_26 (MaxPooling (None, 5, 5, 16)          0         \n",
            "=================================================================\n",
            "Total params: 2,572\n",
            "Trainable params: 2,572\n",
            "Non-trainable params: 0\n",
            "_________________________________________________________________\n"
          ],
          "name": "stdout"
        }
      ]
    },
    {
      "cell_type": "markdown",
      "metadata": {
        "id": "FuA7Tb1MX1w6"
      },
      "source": [
        "## **DENSE LAYERS**"
      ]
    },
    {
      "cell_type": "code",
      "metadata": {
        "id": "oEVzsks6C7a6"
      },
      "source": [
        "#flattening the last conv layer\n",
        "cnn.add(layers.Flatten())\n",
        "\n",
        "#adding first dense layer with 120 nodes\n",
        "cnn.add(layers.Dense(120, activation='relu'))\n",
        "\n",
        "#secong dense layer with 84 nodes\n",
        "cnn.add(layers.Dense(84, activation='relu'))\n",
        "\n",
        "# Output layer with ten classes\n",
        "cnn.add(layers.Dense(10, activation='softmax'))"
      ],
      "execution_count": null,
      "outputs": []
    },
    {
      "cell_type": "code",
      "metadata": {
        "colab": {
          "base_uri": "https://localhost:8080/"
        },
        "id": "ol1R612bDDOQ",
        "outputId": "0122577a-3c5d-4f13-fe78-b0a5dcb542dc"
      },
      "source": [
        "#Archietecture of the convolutional network along with dense layers\n",
        "cnn.summary()"
      ],
      "execution_count": null,
      "outputs": [
        {
          "output_type": "stream",
          "text": [
            "Model: \"sequential_14\"\n",
            "_________________________________________________________________\n",
            "Layer (type)                 Output Shape              Param #   \n",
            "=================================================================\n",
            "conv2d_31 (Conv2D)           (None, 28, 28, 6)         156       \n",
            "_________________________________________________________________\n",
            "max_pooling2d_25 (MaxPooling (None, 14, 14, 6)         0         \n",
            "_________________________________________________________________\n",
            "conv2d_32 (Conv2D)           (None, 10, 10, 16)        2416      \n",
            "_________________________________________________________________\n",
            "max_pooling2d_26 (MaxPooling (None, 5, 5, 16)          0         \n",
            "_________________________________________________________________\n",
            "flatten_15 (Flatten)         (None, 400)               0         \n",
            "_________________________________________________________________\n",
            "dense_37 (Dense)             (None, 120)               48120     \n",
            "_________________________________________________________________\n",
            "dense_38 (Dense)             (None, 84)                10164     \n",
            "_________________________________________________________________\n",
            "dense_39 (Dense)             (None, 10)                850       \n",
            "=================================================================\n",
            "Total params: 61,706\n",
            "Trainable params: 61,706\n",
            "Non-trainable params: 0\n",
            "_________________________________________________________________\n"
          ],
          "name": "stdout"
        }
      ]
    },
    {
      "cell_type": "markdown",
      "metadata": {
        "id": "6TTNj6ZYXLyL"
      },
      "source": [
        "## **ARCHITECTURE:**\n",
        "The architecture of the CNN used here is LENET-5. It is one of the classic model architecture used for grayscale picture classification."
      ]
    },
    {
      "cell_type": "code",
      "metadata": {
        "colab": {
          "base_uri": "https://localhost:8080/"
        },
        "id": "B05YSxnSDaXT",
        "outputId": "2a771fe7-6952-4231-990c-a4ad83bf5aba"
      },
      "source": [
        "cnn.compile(optimizer='adam',\n",
        "              loss=tf.keras.losses.SparseCategoricalCrossentropy(from_logits=True),\n",
        "              metrics=['accuracy'])\n",
        "val = cnn.fit(X_train, Y_train, epochs=10, validation_split=0.2)"
      ],
      "execution_count": null,
      "outputs": [
        {
          "output_type": "stream",
          "text": [
            "Epoch 1/10\n"
          ],
          "name": "stdout"
        },
        {
          "output_type": "stream",
          "text": [
            "/usr/local/lib/python3.7/dist-packages/tensorflow/python/keras/backend.py:4930: UserWarning: \"`sparse_categorical_crossentropy` received `from_logits=True`, but the `output` argument was produced by a sigmoid or softmax activation and thus does not represent logits. Was this intended?\"\n",
            "  '\"`sparse_categorical_crossentropy` received `from_logits=True`, but '\n"
          ],
          "name": "stderr"
        },
        {
          "output_type": "stream",
          "text": [
            "1500/1500 [==============================] - 40s 26ms/step - loss: 0.2013 - accuracy: 0.9380 - val_loss: 0.0798 - val_accuracy: 0.9749\n",
            "Epoch 2/10\n",
            "1500/1500 [==============================] - 39s 26ms/step - loss: 0.0641 - accuracy: 0.9801 - val_loss: 0.0649 - val_accuracy: 0.9791\n",
            "Epoch 3/10\n",
            "1500/1500 [==============================] - 40s 27ms/step - loss: 0.0460 - accuracy: 0.9861 - val_loss: 0.0536 - val_accuracy: 0.9839\n",
            "Epoch 4/10\n",
            "1500/1500 [==============================] - 39s 26ms/step - loss: 0.0352 - accuracy: 0.9889 - val_loss: 0.0514 - val_accuracy: 0.9851\n",
            "Epoch 5/10\n",
            "1500/1500 [==============================] - 39s 26ms/step - loss: 0.0292 - accuracy: 0.9913 - val_loss: 0.0458 - val_accuracy: 0.9865\n",
            "Epoch 6/10\n",
            "1500/1500 [==============================] - 40s 27ms/step - loss: 0.0234 - accuracy: 0.9925 - val_loss: 0.0461 - val_accuracy: 0.9858\n",
            "Epoch 7/10\n",
            "1500/1500 [==============================] - 40s 27ms/step - loss: 0.0193 - accuracy: 0.9935 - val_loss: 0.0525 - val_accuracy: 0.9858\n",
            "Epoch 8/10\n",
            "1500/1500 [==============================] - 40s 27ms/step - loss: 0.0175 - accuracy: 0.9945 - val_loss: 0.0499 - val_accuracy: 0.9877\n",
            "Epoch 9/10\n",
            "1500/1500 [==============================] - 40s 27ms/step - loss: 0.0139 - accuracy: 0.9954 - val_loss: 0.0585 - val_accuracy: 0.9860\n",
            "Epoch 10/10\n",
            "1500/1500 [==============================] - 40s 27ms/step - loss: 0.0125 - accuracy: 0.9962 - val_loss: 0.0486 - val_accuracy: 0.9884\n"
          ],
          "name": "stdout"
        }
      ]
    },
    {
      "cell_type": "markdown",
      "metadata": {
        "id": "Yh8gcak3YFUs"
      },
      "source": [
        "## **EVALUVATION ON TEST DATASET**"
      ]
    },
    {
      "cell_type": "code",
      "metadata": {
        "colab": {
          "base_uri": "https://localhost:8080/"
        },
        "id": "UOFmhvP5OVjL",
        "outputId": "443e9447-296d-4f03-d054-183c8bc0edb5"
      },
      "source": [
        "test_loss, test_acc = cnn.evaluate(X_test, Y_test, verbose=2,)\n",
        "test_acc"
      ],
      "execution_count": null,
      "outputs": [
        {
          "output_type": "stream",
          "text": [
            "/usr/local/lib/python3.7/dist-packages/tensorflow/python/keras/backend.py:4930: UserWarning: \"`sparse_categorical_crossentropy` received `from_logits=True`, but the `output` argument was produced by a sigmoid or softmax activation and thus does not represent logits. Was this intended?\"\n",
            "  '\"`sparse_categorical_crossentropy` received `from_logits=True`, but '\n"
          ],
          "name": "stderr"
        },
        {
          "output_type": "stream",
          "text": [
            "313/313 - 3s - loss: 0.0397 - accuracy: 0.9903\n"
          ],
          "name": "stdout"
        },
        {
          "output_type": "execute_result",
          "data": {
            "text/plain": [
              "0.9902999997138977"
            ]
          },
          "metadata": {
            "tags": []
          },
          "execution_count": 94
        }
      ]
    },
    {
      "cell_type": "markdown",
      "metadata": {
        "id": "ETkuDyRnYQyf"
      },
      "source": [
        "## **ACCURACY OF TEST DATASET:**\n",
        "The accuracy on the test dataset is 99.03.\n"
      ]
    },
    {
      "cell_type": "markdown",
      "metadata": {
        "id": "yTH0Lo3yYmVr"
      },
      "source": [
        "## **CLASSIFICATION REPORT**"
      ]
    },
    {
      "cell_type": "code",
      "metadata": {
        "colab": {
          "base_uri": "https://localhost:8080/"
        },
        "id": "gq2hCG6yTEzL",
        "outputId": "8e3450f5-a672-4c5c-f4ad-1f362306ad18"
      },
      "source": [
        "from sklearn.metrics import confusion_matrix , classification_report\n",
        "import numpy as np\n",
        "Y_pred = cnn.predict(X_test)\n",
        "Y_pred_classes = [np.argmax(element) for element in Y_pred]\n",
        "\n",
        "print(\"Classification Report: \\n\", classification_report(Y_test, Y_pred_classes))"
      ],
      "execution_count": null,
      "outputs": [
        {
          "output_type": "stream",
          "text": [
            "Classification Report: \n",
            "               precision    recall  f1-score   support\n",
            "\n",
            "           0       0.99      1.00      0.99       980\n",
            "           1       1.00      1.00      1.00      1135\n",
            "           2       0.99      0.99      0.99      1032\n",
            "           3       0.98      0.99      0.99      1010\n",
            "           4       0.99      1.00      0.99       982\n",
            "           5       0.99      0.98      0.99       892\n",
            "           6       0.99      0.98      0.99       958\n",
            "           7       0.99      0.99      0.99      1028\n",
            "           8       0.99      0.98      0.99       974\n",
            "           9       0.98      0.99      0.99      1009\n",
            "\n",
            "    accuracy                           0.99     10000\n",
            "   macro avg       0.99      0.99      0.99     10000\n",
            "weighted avg       0.99      0.99      0.99     10000\n",
            "\n"
          ],
          "name": "stdout"
        }
      ]
    },
    {
      "cell_type": "markdown",
      "metadata": {
        "id": "UdKsogO_Ysej"
      },
      "source": [
        "## **ACCURACY, PRECISON, RECALL**\n",
        "| METRIC                      | VALUE                   |\n",
        "| ----                        | ----                    |\n",
        "| ACCURACY                    |            99%          |\n",
        "| PRECISION                   |            99%          |\n",
        "| RECALL                      |            99%          |"
      ]
    }
  ]
}